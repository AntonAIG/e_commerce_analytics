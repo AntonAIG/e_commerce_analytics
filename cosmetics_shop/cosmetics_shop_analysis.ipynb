{
  "nbformat": 4,
  "nbformat_minor": 0,
  "metadata": {
    "colab": {
      "name": "cosmetics_shop_analysis.ipynb",
      "provenance": [],
      "collapsed_sections": [
        "Y1MvUXSqlGjK",
        "XeZDVIVztAp6"
      ],
      "toc_visible": true,
      "mount_file_id": "1HcINDyDOdiZJ5O67J3vc6sjqvUiIMHyL",
      "authorship_tag": "ABX9TyOFIoGkqf1dmgqrAVH4diyS",
      "include_colab_link": true
    },
    "kernelspec": {
      "name": "python3",
      "display_name": "Python 3"
    },
    "language_info": {
      "name": "python"
    }
  },
  "cells": [
    {
      "cell_type": "markdown",
      "metadata": {
        "id": "view-in-github",
        "colab_type": "text"
      },
      "source": [
        "<a href=\"https://colab.research.google.com/github/AntonAIG/e_commerce_analytics/blob/main/cosmetics_shop/cosmetics_shop_analysis.ipynb\" target=\"_parent\"><img src=\"https://colab.research.google.com/assets/colab-badge.svg\" alt=\"Open In Colab\"/></a>"
      ]
    },
    {
      "cell_type": "markdown",
      "source": [
        "## Cosmetics Shop Data Analysis\n",
        "\n",
        "Table of contents:\n",
        "* Introduction\n",
        "* Business questions\n",
        "* Data Sources and Structure\n",
        "* Data Preperation\n",
        "* Data Processing\n",
        "* Analyzing Data\n",
        "* Visualization\n",
        "* Conclusion and Recommendation"
      ],
      "metadata": {
        "id": "_vMJNk1Q-VEe"
      }
    },
    {
      "cell_type": "markdown",
      "source": [
        "## Introduction\n",
        "\n",
        "The cosmetics industry is always looking for ways to provide valuable products to their customers. In other to do this, it needs to objectively understand the buying parterns and behaviour of its customers. From the moment a customer arrives at the online store, data is been collected in other to understand customers buying partern. There are 4 distinctive events that customer actions can be classified under.\n",
        "\n",
        "Events can be:\n",
        "\n",
        "* view - a user viewed a product\n",
        "* cart - a user added a product to shopping cart\n",
        "* remove_from_cart - a user removed a product from shopping cart\n",
        "* purchase - a user purchased a product\n",
        "\n",
        "In other to analyze these action and use it to accertain the performance or consumer response to a new product, other factors has to be considered. Factors such as price, brand, and product category can help us understand these outcomes better.\n",
        "\n",
        "[REES46](https://rees46.com/) for eCommerce wants to analyze consumer behaviour through the use of datasets obtained for a three-month period, October - December 2019. They provide analytics services to online shops and websites that who want to track customer interaction, events and engagement. One of their USPs is to provide a dynamic dashboard that can record and present key metrics to their customers. These metrics will help them to understand customer interaction and engagement."
      ],
      "metadata": {
        "id": "ALKMLKGtDlzh"
      }
    },
    {
      "cell_type": "markdown",
      "source": [
        "## Business Question\n",
        "\n",
        "REES46 wants to know the best perfroming cosmetic product during the Christmas shoping season of 2019. They want to know what mad e it to be very successfull, and how to drive sales for other products.\n",
        "\n",
        "The retailers can then use this information to improve the way the product is marketed."
      ],
      "metadata": {
        "id": "D2JXoTzOEzvm"
      }
    },
    {
      "cell_type": "markdown",
      "source": [
        "## Data Sources and Structure\n",
        "\n",
        "The dataset for this evaluation comes from an online analytics website for one of its customers. This dataset was made available on [Kaggle](https://www.kaggle.com/mkechinov/ecommerce-events-history-in-cosmetics-shop), for a five months period: Oct. 2019 - Feb. 2020.\n",
        "\n",
        "There are nine features recorded from the online store:\n",
        "* event type: as described in the introduction\n",
        "* event time: timestamp for the respective event type\n",
        "* product id: ID of the product\n",
        "* category id: product's category ID\n",
        "* categry code: reference code of product's taxonomy\n",
        "* brand: a string of brand name\n",
        "* pricce: the selling rpice of the product\n",
        "* user id: permanent user id\n",
        "* user_session: tempoary log of user session id.  Changed every time user comes back to the online store from a long pause."
      ],
      "metadata": {
        "id": "eBsl94CDbnGA"
      }
    },
    {
      "cell_type": "markdown",
      "source": [
        "## Data Preperation\n",
        "\n",
        "In this section, we shall import the data and arrange it to form a single dataset."
      ],
      "metadata": {
        "id": "Y1MvUXSqlGjK"
      }
    },
    {
      "cell_type": "code",
      "execution_count": 49,
      "metadata": {
        "id": "4nW6mL9X9poU"
      },
      "outputs": [],
      "source": [
        "import pandas as pd\n",
        "from datetime import datetime\n",
        "import numpy as np\n",
        "import matplotlib.pyplot as plt\n",
        "import seaborn as sns\n",
        "%matplotlib inline\n",
        "\n",
        "sns.set_style(\"whitegrid\")\n",
        "palette = \"Set1\""
      ]
    },
    {
      "cell_type": "markdown",
      "source": [
        "Loading the datasets"
      ],
      "metadata": {
        "id": "q0z199RMmR_8"
      }
    },
    {
      "cell_type": "code",
      "source": [
        "oct_df = pd.read_csv(\"/content/drive/MyDrive/Project Portfolio/DA_eCommerce Events History/2019-Oct.csv\")\n",
        "nov_df = pd.read_csv(\"/content/drive/MyDrive/Project Portfolio/DA_eCommerce Events History/2019-Nov.csv\")\n",
        "dec_df = pd.read_csv(\"/content/drive/MyDrive/Project Portfolio/DA_eCommerce Events History/2019-Dec.csv\")"
      ],
      "metadata": {
        "id": "z1ya_NxkmVaz"
      },
      "execution_count": 2,
      "outputs": []
    },
    {
      "cell_type": "code",
      "source": [
        "dec_df.head()"
      ],
      "metadata": {
        "colab": {
          "base_uri": "https://localhost:8080/",
          "height": 206
        },
        "id": "_ZtsUGYcsUZ2",
        "outputId": "6abfcde1-68b8-4719-9b50-30044a94c079"
      },
      "execution_count": 3,
      "outputs": [
        {
          "output_type": "execute_result",
          "data": {
            "text/html": [
              "\n",
              "  <div id=\"df-5ab3e550-7de7-4af3-b1fb-a07e79f8d0d3\">\n",
              "    <div class=\"colab-df-container\">\n",
              "      <div>\n",
              "<style scoped>\n",
              "    .dataframe tbody tr th:only-of-type {\n",
              "        vertical-align: middle;\n",
              "    }\n",
              "\n",
              "    .dataframe tbody tr th {\n",
              "        vertical-align: top;\n",
              "    }\n",
              "\n",
              "    .dataframe thead th {\n",
              "        text-align: right;\n",
              "    }\n",
              "</style>\n",
              "<table border=\"1\" class=\"dataframe\">\n",
              "  <thead>\n",
              "    <tr style=\"text-align: right;\">\n",
              "      <th></th>\n",
              "      <th>event_time</th>\n",
              "      <th>event_type</th>\n",
              "      <th>product_id</th>\n",
              "      <th>category_id</th>\n",
              "      <th>category_code</th>\n",
              "      <th>brand</th>\n",
              "      <th>price</th>\n",
              "      <th>user_id</th>\n",
              "      <th>user_session</th>\n",
              "    </tr>\n",
              "  </thead>\n",
              "  <tbody>\n",
              "    <tr>\n",
              "      <th>0</th>\n",
              "      <td>2019-12-01 00:00:00 UTC</td>\n",
              "      <td>remove_from_cart</td>\n",
              "      <td>5712790</td>\n",
              "      <td>1487580005268456287</td>\n",
              "      <td>NaN</td>\n",
              "      <td>f.o.x</td>\n",
              "      <td>6.27</td>\n",
              "      <td>576802932</td>\n",
              "      <td>51d85cb0-897f-48d2-918b-ad63965c12dc</td>\n",
              "    </tr>\n",
              "    <tr>\n",
              "      <th>1</th>\n",
              "      <td>2019-12-01 00:00:00 UTC</td>\n",
              "      <td>view</td>\n",
              "      <td>5764655</td>\n",
              "      <td>1487580005411062629</td>\n",
              "      <td>NaN</td>\n",
              "      <td>cnd</td>\n",
              "      <td>29.05</td>\n",
              "      <td>412120092</td>\n",
              "      <td>8adff31e-2051-4894-9758-224bfa8aec18</td>\n",
              "    </tr>\n",
              "    <tr>\n",
              "      <th>2</th>\n",
              "      <td>2019-12-01 00:00:02 UTC</td>\n",
              "      <td>cart</td>\n",
              "      <td>4958</td>\n",
              "      <td>1487580009471148064</td>\n",
              "      <td>NaN</td>\n",
              "      <td>runail</td>\n",
              "      <td>1.19</td>\n",
              "      <td>494077766</td>\n",
              "      <td>c99a50e8-2fac-4c4d-89ec-41c05f114554</td>\n",
              "    </tr>\n",
              "    <tr>\n",
              "      <th>3</th>\n",
              "      <td>2019-12-01 00:00:05 UTC</td>\n",
              "      <td>view</td>\n",
              "      <td>5848413</td>\n",
              "      <td>1487580007675986893</td>\n",
              "      <td>NaN</td>\n",
              "      <td>freedecor</td>\n",
              "      <td>0.79</td>\n",
              "      <td>348405118</td>\n",
              "      <td>722ffea5-73c0-4924-8e8f-371ff8031af4</td>\n",
              "    </tr>\n",
              "    <tr>\n",
              "      <th>4</th>\n",
              "      <td>2019-12-01 00:00:07 UTC</td>\n",
              "      <td>view</td>\n",
              "      <td>5824148</td>\n",
              "      <td>1487580005511725929</td>\n",
              "      <td>NaN</td>\n",
              "      <td>NaN</td>\n",
              "      <td>5.56</td>\n",
              "      <td>576005683</td>\n",
              "      <td>28172809-7e4a-45ce-bab0-5efa90117cd5</td>\n",
              "    </tr>\n",
              "  </tbody>\n",
              "</table>\n",
              "</div>\n",
              "      <button class=\"colab-df-convert\" onclick=\"convertToInteractive('df-5ab3e550-7de7-4af3-b1fb-a07e79f8d0d3')\"\n",
              "              title=\"Convert this dataframe to an interactive table.\"\n",
              "              style=\"display:none;\">\n",
              "        \n",
              "  <svg xmlns=\"http://www.w3.org/2000/svg\" height=\"24px\"viewBox=\"0 0 24 24\"\n",
              "       width=\"24px\">\n",
              "    <path d=\"M0 0h24v24H0V0z\" fill=\"none\"/>\n",
              "    <path d=\"M18.56 5.44l.94 2.06.94-2.06 2.06-.94-2.06-.94-.94-2.06-.94 2.06-2.06.94zm-11 1L8.5 8.5l.94-2.06 2.06-.94-2.06-.94L8.5 2.5l-.94 2.06-2.06.94zm10 10l.94 2.06.94-2.06 2.06-.94-2.06-.94-.94-2.06-.94 2.06-2.06.94z\"/><path d=\"M17.41 7.96l-1.37-1.37c-.4-.4-.92-.59-1.43-.59-.52 0-1.04.2-1.43.59L10.3 9.45l-7.72 7.72c-.78.78-.78 2.05 0 2.83L4 21.41c.39.39.9.59 1.41.59.51 0 1.02-.2 1.41-.59l7.78-7.78 2.81-2.81c.8-.78.8-2.07 0-2.86zM5.41 20L4 18.59l7.72-7.72 1.47 1.35L5.41 20z\"/>\n",
              "  </svg>\n",
              "      </button>\n",
              "      \n",
              "  <style>\n",
              "    .colab-df-container {\n",
              "      display:flex;\n",
              "      flex-wrap:wrap;\n",
              "      gap: 12px;\n",
              "    }\n",
              "\n",
              "    .colab-df-convert {\n",
              "      background-color: #E8F0FE;\n",
              "      border: none;\n",
              "      border-radius: 50%;\n",
              "      cursor: pointer;\n",
              "      display: none;\n",
              "      fill: #1967D2;\n",
              "      height: 32px;\n",
              "      padding: 0 0 0 0;\n",
              "      width: 32px;\n",
              "    }\n",
              "\n",
              "    .colab-df-convert:hover {\n",
              "      background-color: #E2EBFA;\n",
              "      box-shadow: 0px 1px 2px rgba(60, 64, 67, 0.3), 0px 1px 3px 1px rgba(60, 64, 67, 0.15);\n",
              "      fill: #174EA6;\n",
              "    }\n",
              "\n",
              "    [theme=dark] .colab-df-convert {\n",
              "      background-color: #3B4455;\n",
              "      fill: #D2E3FC;\n",
              "    }\n",
              "\n",
              "    [theme=dark] .colab-df-convert:hover {\n",
              "      background-color: #434B5C;\n",
              "      box-shadow: 0px 1px 3px 1px rgba(0, 0, 0, 0.15);\n",
              "      filter: drop-shadow(0px 1px 2px rgba(0, 0, 0, 0.3));\n",
              "      fill: #FFFFFF;\n",
              "    }\n",
              "  </style>\n",
              "\n",
              "      <script>\n",
              "        const buttonEl =\n",
              "          document.querySelector('#df-5ab3e550-7de7-4af3-b1fb-a07e79f8d0d3 button.colab-df-convert');\n",
              "        buttonEl.style.display =\n",
              "          google.colab.kernel.accessAllowed ? 'block' : 'none';\n",
              "\n",
              "        async function convertToInteractive(key) {\n",
              "          const element = document.querySelector('#df-5ab3e550-7de7-4af3-b1fb-a07e79f8d0d3');\n",
              "          const dataTable =\n",
              "            await google.colab.kernel.invokeFunction('convertToInteractive',\n",
              "                                                     [key], {});\n",
              "          if (!dataTable) return;\n",
              "\n",
              "          const docLinkHtml = 'Like what you see? Visit the ' +\n",
              "            '<a target=\"_blank\" href=https://colab.research.google.com/notebooks/data_table.ipynb>data table notebook</a>'\n",
              "            + ' to learn more about interactive tables.';\n",
              "          element.innerHTML = '';\n",
              "          dataTable['output_type'] = 'display_data';\n",
              "          await google.colab.output.renderOutput(dataTable, element);\n",
              "          const docLink = document.createElement('div');\n",
              "          docLink.innerHTML = docLinkHtml;\n",
              "          element.appendChild(docLink);\n",
              "        }\n",
              "      </script>\n",
              "    </div>\n",
              "  </div>\n",
              "  "
            ],
            "text/plain": [
              "                event_time  ...                          user_session\n",
              "0  2019-12-01 00:00:00 UTC  ...  51d85cb0-897f-48d2-918b-ad63965c12dc\n",
              "1  2019-12-01 00:00:00 UTC  ...  8adff31e-2051-4894-9758-224bfa8aec18\n",
              "2  2019-12-01 00:00:02 UTC  ...  c99a50e8-2fac-4c4d-89ec-41c05f114554\n",
              "3  2019-12-01 00:00:05 UTC  ...  722ffea5-73c0-4924-8e8f-371ff8031af4\n",
              "4  2019-12-01 00:00:07 UTC  ...  28172809-7e4a-45ce-bab0-5efa90117cd5\n",
              "\n",
              "[5 rows x 9 columns]"
            ]
          },
          "metadata": {},
          "execution_count": 3
        }
      ]
    },
    {
      "cell_type": "code",
      "source": [
        "print(oct_df.shape, nov_df.shape, dec_df.shape)"
      ],
      "metadata": {
        "colab": {
          "base_uri": "https://localhost:8080/"
        },
        "id": "6Nlts9nJsvsn",
        "outputId": "a4b364ae-4285-4d7f-c79a-742fb37b1145"
      },
      "execution_count": 4,
      "outputs": [
        {
          "output_type": "stream",
          "name": "stdout",
          "text": [
            "(4102283, 9) (4635837, 9) (3533286, 9)\n"
          ]
        }
      ]
    },
    {
      "cell_type": "markdown",
      "source": [
        "## Data Processing\n",
        "\n",
        "The dataset for the months of October, November, and December has the same number of columns representing the same feature.\n",
        "\n",
        "I will merge the data and create additional columns for: hour, day_of_week, day_of_year, week, and month."
      ],
      "metadata": {
        "id": "XeZDVIVztAp6"
      }
    },
    {
      "cell_type": "code",
      "source": [
        "months = pd.merge(oct_df, nov_df, how='outer')\n",
        "months = pd.merge(months, dec_df, how='outer')"
      ],
      "metadata": {
        "id": "vjfaokASvgsS"
      },
      "execution_count": 5,
      "outputs": []
    },
    {
      "cell_type": "code",
      "source": [
        "print(\"Months entries ({}) = Sum of months ({}) \".format(months.shape[0], oct_df.shape[0]+nov_df.shape[0]+dec_df.shape[0]))"
      ],
      "metadata": {
        "colab": {
          "base_uri": "https://localhost:8080/"
        },
        "id": "BbGMaXX5xJrN",
        "outputId": "4dd446b5-0dc2-4eb4-9ec1-59aaae01eed3"
      },
      "execution_count": 6,
      "outputs": [
        {
          "output_type": "stream",
          "name": "stdout",
          "text": [
            "Months entries (12271406) = Sum of months (12271406) \n"
          ]
        }
      ]
    },
    {
      "cell_type": "markdown",
      "source": [
        "Adding new columns"
      ],
      "metadata": {
        "id": "cLQTk-skx_MB"
      }
    },
    {
      "cell_type": "code",
      "source": [
        "def datetime_elements(df, column=\"\"):\n",
        "  #convert event_time column to datetime object\n",
        "  df[column] = pd.to_datetime(df[column])\n",
        "\n",
        "  #create additional columns for datetime elements\n",
        "  df['hour'] = np.int8(df[column].dt.hour)\n",
        "  df['day'] = np.int16(df[column].dt.day)\n",
        "  df['day_of_week'] = np.int8(df[column].dt.dayofweek)\n",
        "  df['day_of_year'] = np.int16(df[column].dt.dayofyear)\n",
        "  df['week'] = np.int16(df[column].dt.week)\n",
        "  df['month'] = np.int8(df[column].dt.month)\n",
        "\n",
        "  return df"
      ],
      "metadata": {
        "id": "2LS7b1m7yCni"
      },
      "execution_count": 7,
      "outputs": []
    },
    {
      "cell_type": "code",
      "source": [
        "months = datetime_elements(months, 'event_time')"
      ],
      "metadata": {
        "colab": {
          "base_uri": "https://localhost:8080/"
        },
        "id": "edVok5e42Fmo",
        "outputId": "86f13a7d-e50f-49e9-b175-97e5112f066d"
      },
      "execution_count": 8,
      "outputs": [
        {
          "output_type": "stream",
          "name": "stderr",
          "text": [
            "/usr/local/lib/python3.7/dist-packages/ipykernel_launcher.py:10: FutureWarning: Series.dt.weekofyear and Series.dt.week have been deprecated.  Please use Series.dt.isocalendar().week instead.\n",
            "  # Remove the CWD from sys.path while we load stuff.\n"
          ]
        }
      ]
    },
    {
      "cell_type": "code",
      "source": [
        "months.head(3)"
      ],
      "metadata": {
        "colab": {
          "base_uri": "https://localhost:8080/",
          "height": 364
        },
        "id": "aD4BaOJk_4bJ",
        "outputId": "364cc4a8-2563-43da-a774-7d0e18a8f579"
      },
      "execution_count": 9,
      "outputs": [
        {
          "output_type": "execute_result",
          "data": {
            "text/html": [
              "\n",
              "  <div id=\"df-62554501-8744-4171-958c-78babfbed1a5\">\n",
              "    <div class=\"colab-df-container\">\n",
              "      <div>\n",
              "<style scoped>\n",
              "    .dataframe tbody tr th:only-of-type {\n",
              "        vertical-align: middle;\n",
              "    }\n",
              "\n",
              "    .dataframe tbody tr th {\n",
              "        vertical-align: top;\n",
              "    }\n",
              "\n",
              "    .dataframe thead th {\n",
              "        text-align: right;\n",
              "    }\n",
              "</style>\n",
              "<table border=\"1\" class=\"dataframe\">\n",
              "  <thead>\n",
              "    <tr style=\"text-align: right;\">\n",
              "      <th></th>\n",
              "      <th>event_time</th>\n",
              "      <th>event_type</th>\n",
              "      <th>product_id</th>\n",
              "      <th>category_id</th>\n",
              "      <th>category_code</th>\n",
              "      <th>brand</th>\n",
              "      <th>price</th>\n",
              "      <th>user_id</th>\n",
              "      <th>user_session</th>\n",
              "      <th>hour</th>\n",
              "      <th>day</th>\n",
              "      <th>day_of_week</th>\n",
              "      <th>day_of_year</th>\n",
              "      <th>week</th>\n",
              "      <th>month</th>\n",
              "    </tr>\n",
              "  </thead>\n",
              "  <tbody>\n",
              "    <tr>\n",
              "      <th>0</th>\n",
              "      <td>2019-10-01 00:00:00+00:00</td>\n",
              "      <td>cart</td>\n",
              "      <td>5773203</td>\n",
              "      <td>1487580005134238553</td>\n",
              "      <td>NaN</td>\n",
              "      <td>runail</td>\n",
              "      <td>2.62</td>\n",
              "      <td>463240011</td>\n",
              "      <td>26dd6e6e-4dac-4778-8d2c-92e149dab885</td>\n",
              "      <td>0</td>\n",
              "      <td>1</td>\n",
              "      <td>1</td>\n",
              "      <td>274</td>\n",
              "      <td>40</td>\n",
              "      <td>10</td>\n",
              "    </tr>\n",
              "    <tr>\n",
              "      <th>1</th>\n",
              "      <td>2019-10-01 00:00:03+00:00</td>\n",
              "      <td>cart</td>\n",
              "      <td>5773353</td>\n",
              "      <td>1487580005134238553</td>\n",
              "      <td>NaN</td>\n",
              "      <td>runail</td>\n",
              "      <td>2.62</td>\n",
              "      <td>463240011</td>\n",
              "      <td>26dd6e6e-4dac-4778-8d2c-92e149dab885</td>\n",
              "      <td>0</td>\n",
              "      <td>1</td>\n",
              "      <td>1</td>\n",
              "      <td>274</td>\n",
              "      <td>40</td>\n",
              "      <td>10</td>\n",
              "    </tr>\n",
              "    <tr>\n",
              "      <th>2</th>\n",
              "      <td>2019-10-01 00:00:07+00:00</td>\n",
              "      <td>cart</td>\n",
              "      <td>5881589</td>\n",
              "      <td>2151191071051219817</td>\n",
              "      <td>NaN</td>\n",
              "      <td>lovely</td>\n",
              "      <td>13.48</td>\n",
              "      <td>429681830</td>\n",
              "      <td>49e8d843-adf3-428b-a2c3-fe8bc6a307c9</td>\n",
              "      <td>0</td>\n",
              "      <td>1</td>\n",
              "      <td>1</td>\n",
              "      <td>274</td>\n",
              "      <td>40</td>\n",
              "      <td>10</td>\n",
              "    </tr>\n",
              "  </tbody>\n",
              "</table>\n",
              "</div>\n",
              "      <button class=\"colab-df-convert\" onclick=\"convertToInteractive('df-62554501-8744-4171-958c-78babfbed1a5')\"\n",
              "              title=\"Convert this dataframe to an interactive table.\"\n",
              "              style=\"display:none;\">\n",
              "        \n",
              "  <svg xmlns=\"http://www.w3.org/2000/svg\" height=\"24px\"viewBox=\"0 0 24 24\"\n",
              "       width=\"24px\">\n",
              "    <path d=\"M0 0h24v24H0V0z\" fill=\"none\"/>\n",
              "    <path d=\"M18.56 5.44l.94 2.06.94-2.06 2.06-.94-2.06-.94-.94-2.06-.94 2.06-2.06.94zm-11 1L8.5 8.5l.94-2.06 2.06-.94-2.06-.94L8.5 2.5l-.94 2.06-2.06.94zm10 10l.94 2.06.94-2.06 2.06-.94-2.06-.94-.94-2.06-.94 2.06-2.06.94z\"/><path d=\"M17.41 7.96l-1.37-1.37c-.4-.4-.92-.59-1.43-.59-.52 0-1.04.2-1.43.59L10.3 9.45l-7.72 7.72c-.78.78-.78 2.05 0 2.83L4 21.41c.39.39.9.59 1.41.59.51 0 1.02-.2 1.41-.59l7.78-7.78 2.81-2.81c.8-.78.8-2.07 0-2.86zM5.41 20L4 18.59l7.72-7.72 1.47 1.35L5.41 20z\"/>\n",
              "  </svg>\n",
              "      </button>\n",
              "      \n",
              "  <style>\n",
              "    .colab-df-container {\n",
              "      display:flex;\n",
              "      flex-wrap:wrap;\n",
              "      gap: 12px;\n",
              "    }\n",
              "\n",
              "    .colab-df-convert {\n",
              "      background-color: #E8F0FE;\n",
              "      border: none;\n",
              "      border-radius: 50%;\n",
              "      cursor: pointer;\n",
              "      display: none;\n",
              "      fill: #1967D2;\n",
              "      height: 32px;\n",
              "      padding: 0 0 0 0;\n",
              "      width: 32px;\n",
              "    }\n",
              "\n",
              "    .colab-df-convert:hover {\n",
              "      background-color: #E2EBFA;\n",
              "      box-shadow: 0px 1px 2px rgba(60, 64, 67, 0.3), 0px 1px 3px 1px rgba(60, 64, 67, 0.15);\n",
              "      fill: #174EA6;\n",
              "    }\n",
              "\n",
              "    [theme=dark] .colab-df-convert {\n",
              "      background-color: #3B4455;\n",
              "      fill: #D2E3FC;\n",
              "    }\n",
              "\n",
              "    [theme=dark] .colab-df-convert:hover {\n",
              "      background-color: #434B5C;\n",
              "      box-shadow: 0px 1px 3px 1px rgba(0, 0, 0, 0.15);\n",
              "      filter: drop-shadow(0px 1px 2px rgba(0, 0, 0, 0.3));\n",
              "      fill: #FFFFFF;\n",
              "    }\n",
              "  </style>\n",
              "\n",
              "      <script>\n",
              "        const buttonEl =\n",
              "          document.querySelector('#df-62554501-8744-4171-958c-78babfbed1a5 button.colab-df-convert');\n",
              "        buttonEl.style.display =\n",
              "          google.colab.kernel.accessAllowed ? 'block' : 'none';\n",
              "\n",
              "        async function convertToInteractive(key) {\n",
              "          const element = document.querySelector('#df-62554501-8744-4171-958c-78babfbed1a5');\n",
              "          const dataTable =\n",
              "            await google.colab.kernel.invokeFunction('convertToInteractive',\n",
              "                                                     [key], {});\n",
              "          if (!dataTable) return;\n",
              "\n",
              "          const docLinkHtml = 'Like what you see? Visit the ' +\n",
              "            '<a target=\"_blank\" href=https://colab.research.google.com/notebooks/data_table.ipynb>data table notebook</a>'\n",
              "            + ' to learn more about interactive tables.';\n",
              "          element.innerHTML = '';\n",
              "          dataTable['output_type'] = 'display_data';\n",
              "          await google.colab.output.renderOutput(dataTable, element);\n",
              "          const docLink = document.createElement('div');\n",
              "          docLink.innerHTML = docLinkHtml;\n",
              "          element.appendChild(docLink);\n",
              "        }\n",
              "      </script>\n",
              "    </div>\n",
              "  </div>\n",
              "  "
            ],
            "text/plain": [
              "                 event_time event_type  product_id  ...  day_of_year week month\n",
              "0 2019-10-01 00:00:00+00:00       cart     5773203  ...          274   40    10\n",
              "1 2019-10-01 00:00:03+00:00       cart     5773353  ...          274   40    10\n",
              "2 2019-10-01 00:00:07+00:00       cart     5881589  ...          274   40    10\n",
              "\n",
              "[3 rows x 15 columns]"
            ]
          },
          "metadata": {},
          "execution_count": 9
        }
      ]
    },
    {
      "cell_type": "code",
      "source": [
        "months.info()"
      ],
      "metadata": {
        "colab": {
          "base_uri": "https://localhost:8080/"
        },
        "id": "bWBvRA8I8InD",
        "outputId": "73b841ab-505c-4481-ae48-e07ca593c1c0"
      },
      "execution_count": 10,
      "outputs": [
        {
          "output_type": "stream",
          "name": "stdout",
          "text": [
            "<class 'pandas.core.frame.DataFrame'>\n",
            "Int64Index: 12271406 entries, 0 to 12271405\n",
            "Data columns (total 15 columns):\n",
            " #   Column         Dtype              \n",
            "---  ------         -----              \n",
            " 0   event_time     datetime64[ns, UTC]\n",
            " 1   event_type     object             \n",
            " 2   product_id     int64              \n",
            " 3   category_id    int64              \n",
            " 4   category_code  object             \n",
            " 5   brand          object             \n",
            " 6   price          float64            \n",
            " 7   user_id        int64              \n",
            " 8   user_session   object             \n",
            " 9   hour           int8               \n",
            " 10  day            int16              \n",
            " 11  day_of_week    int8               \n",
            " 12  day_of_year    int16              \n",
            " 13  week           int16              \n",
            " 14  month          int8               \n",
            "dtypes: datetime64[ns, UTC](1), float64(1), int16(3), int64(3), int8(3), object(4)\n",
            "memory usage: 1.0+ GB\n"
          ]
        }
      ]
    },
    {
      "cell_type": "code",
      "source": [
        "months.describe()"
      ],
      "metadata": {
        "colab": {
          "base_uri": "https://localhost:8080/",
          "height": 300
        },
        "id": "MJ8X1Mys8SLD",
        "outputId": "8f8b0eb9-c4a6-492d-8315-bcf6f4e41f2f"
      },
      "execution_count": 11,
      "outputs": [
        {
          "output_type": "execute_result",
          "data": {
            "text/html": [
              "\n",
              "  <div id=\"df-7000affc-dd94-4dd8-aa2f-f1c7b14b6998\">\n",
              "    <div class=\"colab-df-container\">\n",
              "      <div>\n",
              "<style scoped>\n",
              "    .dataframe tbody tr th:only-of-type {\n",
              "        vertical-align: middle;\n",
              "    }\n",
              "\n",
              "    .dataframe tbody tr th {\n",
              "        vertical-align: top;\n",
              "    }\n",
              "\n",
              "    .dataframe thead th {\n",
              "        text-align: right;\n",
              "    }\n",
              "</style>\n",
              "<table border=\"1\" class=\"dataframe\">\n",
              "  <thead>\n",
              "    <tr style=\"text-align: right;\">\n",
              "      <th></th>\n",
              "      <th>product_id</th>\n",
              "      <th>category_id</th>\n",
              "      <th>price</th>\n",
              "      <th>user_id</th>\n",
              "      <th>hour</th>\n",
              "      <th>day</th>\n",
              "      <th>day_of_week</th>\n",
              "      <th>day_of_year</th>\n",
              "      <th>week</th>\n",
              "      <th>month</th>\n",
              "    </tr>\n",
              "  </thead>\n",
              "  <tbody>\n",
              "    <tr>\n",
              "      <th>count</th>\n",
              "      <td>1.227141e+07</td>\n",
              "      <td>1.227141e+07</td>\n",
              "      <td>1.227141e+07</td>\n",
              "      <td>1.227141e+07</td>\n",
              "      <td>1.227141e+07</td>\n",
              "      <td>1.227141e+07</td>\n",
              "      <td>1.227141e+07</td>\n",
              "      <td>1.227141e+07</td>\n",
              "      <td>1.227141e+07</td>\n",
              "      <td>1.227141e+07</td>\n",
              "    </tr>\n",
              "    <tr>\n",
              "      <th>mean</th>\n",
              "      <td>5.474675e+06</td>\n",
              "      <td>1.550011e+18</td>\n",
              "      <td>8.475452e+00</td>\n",
              "      <td>5.094500e+08</td>\n",
              "      <td>1.302788e+01</td>\n",
              "      <td>1.556037e+01</td>\n",
              "      <td>2.930153e+00</td>\n",
              "      <td>3.178350e+02</td>\n",
              "      <td>4.559335e+01</td>\n",
              "      <td>1.095363e+01</td>\n",
              "    </tr>\n",
              "    <tr>\n",
              "      <th>std</th>\n",
              "      <td>1.318493e+06</td>\n",
              "      <td>1.630757e+17</td>\n",
              "      <td>1.922233e+01</td>\n",
              "      <td>8.434724e+07</td>\n",
              "      <td>5.486388e+00</td>\n",
              "      <td>8.769869e+00</td>\n",
              "      <td>1.975982e+00</td>\n",
              "      <td>2.522650e+01</td>\n",
              "      <td>5.270969e+00</td>\n",
              "      <td>7.874481e-01</td>\n",
              "    </tr>\n",
              "    <tr>\n",
              "      <th>min</th>\n",
              "      <td>3.752000e+03</td>\n",
              "      <td>1.487580e+18</td>\n",
              "      <td>-7.937000e+01</td>\n",
              "      <td>1.120748e+06</td>\n",
              "      <td>0.000000e+00</td>\n",
              "      <td>1.000000e+00</td>\n",
              "      <td>0.000000e+00</td>\n",
              "      <td>2.740000e+02</td>\n",
              "      <td>1.000000e+00</td>\n",
              "      <td>1.000000e+01</td>\n",
              "    </tr>\n",
              "    <tr>\n",
              "      <th>25%</th>\n",
              "      <td>5.723529e+06</td>\n",
              "      <td>1.487580e+18</td>\n",
              "      <td>2.050000e+00</td>\n",
              "      <td>4.738656e+08</td>\n",
              "      <td>9.000000e+00</td>\n",
              "      <td>8.000000e+00</td>\n",
              "      <td>1.000000e+00</td>\n",
              "      <td>2.960000e+02</td>\n",
              "      <td>4.300000e+01</td>\n",
              "      <td>1.000000e+01</td>\n",
              "    </tr>\n",
              "    <tr>\n",
              "      <th>50%</th>\n",
              "      <td>5.809911e+06</td>\n",
              "      <td>1.487580e+18</td>\n",
              "      <td>4.000000e+00</td>\n",
              "      <td>5.448424e+08</td>\n",
              "      <td>1.300000e+01</td>\n",
              "      <td>1.600000e+01</td>\n",
              "      <td>3.000000e+00</td>\n",
              "      <td>3.190000e+02</td>\n",
              "      <td>4.600000e+01</td>\n",
              "      <td>1.100000e+01</td>\n",
              "    </tr>\n",
              "    <tr>\n",
              "      <th>75%</th>\n",
              "      <td>5.854897e+06</td>\n",
              "      <td>1.487580e+18</td>\n",
              "      <td>6.900000e+00</td>\n",
              "      <td>5.655666e+08</td>\n",
              "      <td>1.800000e+01</td>\n",
              "      <td>2.300000e+01</td>\n",
              "      <td>5.000000e+00</td>\n",
              "      <td>3.380000e+02</td>\n",
              "      <td>4.900000e+01</td>\n",
              "      <td>1.200000e+01</td>\n",
              "    </tr>\n",
              "    <tr>\n",
              "      <th>max</th>\n",
              "      <td>5.917178e+06</td>\n",
              "      <td>2.235524e+18</td>\n",
              "      <td>3.277800e+02</td>\n",
              "      <td>5.954145e+08</td>\n",
              "      <td>2.300000e+01</td>\n",
              "      <td>3.100000e+01</td>\n",
              "      <td>6.000000e+00</td>\n",
              "      <td>3.650000e+02</td>\n",
              "      <td>5.200000e+01</td>\n",
              "      <td>1.200000e+01</td>\n",
              "    </tr>\n",
              "  </tbody>\n",
              "</table>\n",
              "</div>\n",
              "      <button class=\"colab-df-convert\" onclick=\"convertToInteractive('df-7000affc-dd94-4dd8-aa2f-f1c7b14b6998')\"\n",
              "              title=\"Convert this dataframe to an interactive table.\"\n",
              "              style=\"display:none;\">\n",
              "        \n",
              "  <svg xmlns=\"http://www.w3.org/2000/svg\" height=\"24px\"viewBox=\"0 0 24 24\"\n",
              "       width=\"24px\">\n",
              "    <path d=\"M0 0h24v24H0V0z\" fill=\"none\"/>\n",
              "    <path d=\"M18.56 5.44l.94 2.06.94-2.06 2.06-.94-2.06-.94-.94-2.06-.94 2.06-2.06.94zm-11 1L8.5 8.5l.94-2.06 2.06-.94-2.06-.94L8.5 2.5l-.94 2.06-2.06.94zm10 10l.94 2.06.94-2.06 2.06-.94-2.06-.94-.94-2.06-.94 2.06-2.06.94z\"/><path d=\"M17.41 7.96l-1.37-1.37c-.4-.4-.92-.59-1.43-.59-.52 0-1.04.2-1.43.59L10.3 9.45l-7.72 7.72c-.78.78-.78 2.05 0 2.83L4 21.41c.39.39.9.59 1.41.59.51 0 1.02-.2 1.41-.59l7.78-7.78 2.81-2.81c.8-.78.8-2.07 0-2.86zM5.41 20L4 18.59l7.72-7.72 1.47 1.35L5.41 20z\"/>\n",
              "  </svg>\n",
              "      </button>\n",
              "      \n",
              "  <style>\n",
              "    .colab-df-container {\n",
              "      display:flex;\n",
              "      flex-wrap:wrap;\n",
              "      gap: 12px;\n",
              "    }\n",
              "\n",
              "    .colab-df-convert {\n",
              "      background-color: #E8F0FE;\n",
              "      border: none;\n",
              "      border-radius: 50%;\n",
              "      cursor: pointer;\n",
              "      display: none;\n",
              "      fill: #1967D2;\n",
              "      height: 32px;\n",
              "      padding: 0 0 0 0;\n",
              "      width: 32px;\n",
              "    }\n",
              "\n",
              "    .colab-df-convert:hover {\n",
              "      background-color: #E2EBFA;\n",
              "      box-shadow: 0px 1px 2px rgba(60, 64, 67, 0.3), 0px 1px 3px 1px rgba(60, 64, 67, 0.15);\n",
              "      fill: #174EA6;\n",
              "    }\n",
              "\n",
              "    [theme=dark] .colab-df-convert {\n",
              "      background-color: #3B4455;\n",
              "      fill: #D2E3FC;\n",
              "    }\n",
              "\n",
              "    [theme=dark] .colab-df-convert:hover {\n",
              "      background-color: #434B5C;\n",
              "      box-shadow: 0px 1px 3px 1px rgba(0, 0, 0, 0.15);\n",
              "      filter: drop-shadow(0px 1px 2px rgba(0, 0, 0, 0.3));\n",
              "      fill: #FFFFFF;\n",
              "    }\n",
              "  </style>\n",
              "\n",
              "      <script>\n",
              "        const buttonEl =\n",
              "          document.querySelector('#df-7000affc-dd94-4dd8-aa2f-f1c7b14b6998 button.colab-df-convert');\n",
              "        buttonEl.style.display =\n",
              "          google.colab.kernel.accessAllowed ? 'block' : 'none';\n",
              "\n",
              "        async function convertToInteractive(key) {\n",
              "          const element = document.querySelector('#df-7000affc-dd94-4dd8-aa2f-f1c7b14b6998');\n",
              "          const dataTable =\n",
              "            await google.colab.kernel.invokeFunction('convertToInteractive',\n",
              "                                                     [key], {});\n",
              "          if (!dataTable) return;\n",
              "\n",
              "          const docLinkHtml = 'Like what you see? Visit the ' +\n",
              "            '<a target=\"_blank\" href=https://colab.research.google.com/notebooks/data_table.ipynb>data table notebook</a>'\n",
              "            + ' to learn more about interactive tables.';\n",
              "          element.innerHTML = '';\n",
              "          dataTable['output_type'] = 'display_data';\n",
              "          await google.colab.output.renderOutput(dataTable, element);\n",
              "          const docLink = document.createElement('div');\n",
              "          docLink.innerHTML = docLinkHtml;\n",
              "          element.appendChild(docLink);\n",
              "        }\n",
              "      </script>\n",
              "    </div>\n",
              "  </div>\n",
              "  "
            ],
            "text/plain": [
              "         product_id   category_id  ...          week         month\n",
              "count  1.227141e+07  1.227141e+07  ...  1.227141e+07  1.227141e+07\n",
              "mean   5.474675e+06  1.550011e+18  ...  4.559335e+01  1.095363e+01\n",
              "std    1.318493e+06  1.630757e+17  ...  5.270969e+00  7.874481e-01\n",
              "min    3.752000e+03  1.487580e+18  ...  1.000000e+00  1.000000e+01\n",
              "25%    5.723529e+06  1.487580e+18  ...  4.300000e+01  1.000000e+01\n",
              "50%    5.809911e+06  1.487580e+18  ...  4.600000e+01  1.100000e+01\n",
              "75%    5.854897e+06  1.487580e+18  ...  4.900000e+01  1.200000e+01\n",
              "max    5.917178e+06  2.235524e+18  ...  5.200000e+01  1.200000e+01\n",
              "\n",
              "[8 rows x 10 columns]"
            ]
          },
          "metadata": {},
          "execution_count": 11
        }
      ]
    },
    {
      "cell_type": "code",
      "source": [
        "print('Price count = {} \\n Prices with NaN = {}'.format(months['price'].count(), months['price'].isna().sum()))"
      ],
      "metadata": {
        "colab": {
          "base_uri": "https://localhost:8080/"
        },
        "id": "exM-QwyHAGNH",
        "outputId": "49aeef2b-d5d2-455d-83fb-3d7da5099c73"
      },
      "execution_count": 12,
      "outputs": [
        {
          "output_type": "stream",
          "name": "stdout",
          "text": [
            "Price count = 12271406 \n",
            " Prices with NaN = 0\n"
          ]
        }
      ]
    },
    {
      "cell_type": "code",
      "source": [
        "months['product_id'].nunique()"
      ],
      "metadata": {
        "colab": {
          "base_uri": "https://localhost:8080/"
        },
        "id": "ZHa0-Zn7B2xK",
        "outputId": "a961678a-e1fd-482b-de5e-011658888942"
      },
      "execution_count": 13,
      "outputs": [
        {
          "output_type": "execute_result",
          "data": {
            "text/plain": [
              "49341"
            ]
          },
          "metadata": {},
          "execution_count": 13
        }
      ]
    },
    {
      "cell_type": "markdown",
      "source": [
        "From the description of the numerical values in the dataset, we can see that the minimum price is a negative value. Since these are products on sale, the mininum price should always be above zero for all events categories. \n",
        "\n",
        "Therefore, we can replace all negative price values with corresponding price from product id"
      ],
      "metadata": {
        "id": "ejUeJNwe9NlL"
      }
    },
    {
      "cell_type": "code",
      "source": [
        "prod = months[months['price']<0]['product_id']\n",
        "priz = []\n",
        "for pr in prod:\n",
        "  priz.append(months[months['product_id']==pr][['price','event_type']])\n",
        "priz[0]"
      ],
      "metadata": {
        "colab": {
          "base_uri": "https://localhost:8080/",
          "height": 457
        },
        "id": "oah5UUWOD5Kd",
        "outputId": "d647f911-ab8a-47f7-f068-106048607e6f"
      },
      "execution_count": 14,
      "outputs": [
        {
          "output_type": "execute_result",
          "data": {
            "text/html": [
              "\n",
              "  <div id=\"df-6614dfc3-7133-4c8e-bbab-ef49059e375c\">\n",
              "    <div class=\"colab-df-container\">\n",
              "      <div>\n",
              "<style scoped>\n",
              "    .dataframe tbody tr th:only-of-type {\n",
              "        vertical-align: middle;\n",
              "    }\n",
              "\n",
              "    .dataframe tbody tr th {\n",
              "        vertical-align: top;\n",
              "    }\n",
              "\n",
              "    .dataframe thead th {\n",
              "        text-align: right;\n",
              "    }\n",
              "</style>\n",
              "<table border=\"1\" class=\"dataframe\">\n",
              "  <thead>\n",
              "    <tr style=\"text-align: right;\">\n",
              "      <th></th>\n",
              "      <th>price</th>\n",
              "      <th>event_type</th>\n",
              "    </tr>\n",
              "  </thead>\n",
              "  <tbody>\n",
              "    <tr>\n",
              "      <th>112860</th>\n",
              "      <td>-23.81</td>\n",
              "      <td>purchase</td>\n",
              "    </tr>\n",
              "    <tr>\n",
              "      <th>1783312</th>\n",
              "      <td>-23.81</td>\n",
              "      <td>purchase</td>\n",
              "    </tr>\n",
              "    <tr>\n",
              "      <th>2143762</th>\n",
              "      <td>-23.81</td>\n",
              "      <td>purchase</td>\n",
              "    </tr>\n",
              "    <tr>\n",
              "      <th>3608726</th>\n",
              "      <td>-23.81</td>\n",
              "      <td>purchase</td>\n",
              "    </tr>\n",
              "    <tr>\n",
              "      <th>3798007</th>\n",
              "      <td>-23.81</td>\n",
              "      <td>purchase</td>\n",
              "    </tr>\n",
              "    <tr>\n",
              "      <th>4510520</th>\n",
              "      <td>-23.81</td>\n",
              "      <td>purchase</td>\n",
              "    </tr>\n",
              "    <tr>\n",
              "      <th>4510521</th>\n",
              "      <td>-23.81</td>\n",
              "      <td>purchase</td>\n",
              "    </tr>\n",
              "    <tr>\n",
              "      <th>5474456</th>\n",
              "      <td>-23.81</td>\n",
              "      <td>purchase</td>\n",
              "    </tr>\n",
              "    <tr>\n",
              "      <th>6412556</th>\n",
              "      <td>-23.81</td>\n",
              "      <td>purchase</td>\n",
              "    </tr>\n",
              "    <tr>\n",
              "      <th>7216495</th>\n",
              "      <td>-23.81</td>\n",
              "      <td>purchase</td>\n",
              "    </tr>\n",
              "    <tr>\n",
              "      <th>8480291</th>\n",
              "      <td>-23.81</td>\n",
              "      <td>purchase</td>\n",
              "    </tr>\n",
              "    <tr>\n",
              "      <th>10405488</th>\n",
              "      <td>-23.81</td>\n",
              "      <td>purchase</td>\n",
              "    </tr>\n",
              "    <tr>\n",
              "      <th>11836953</th>\n",
              "      <td>-23.81</td>\n",
              "      <td>purchase</td>\n",
              "    </tr>\n",
              "  </tbody>\n",
              "</table>\n",
              "</div>\n",
              "      <button class=\"colab-df-convert\" onclick=\"convertToInteractive('df-6614dfc3-7133-4c8e-bbab-ef49059e375c')\"\n",
              "              title=\"Convert this dataframe to an interactive table.\"\n",
              "              style=\"display:none;\">\n",
              "        \n",
              "  <svg xmlns=\"http://www.w3.org/2000/svg\" height=\"24px\"viewBox=\"0 0 24 24\"\n",
              "       width=\"24px\">\n",
              "    <path d=\"M0 0h24v24H0V0z\" fill=\"none\"/>\n",
              "    <path d=\"M18.56 5.44l.94 2.06.94-2.06 2.06-.94-2.06-.94-.94-2.06-.94 2.06-2.06.94zm-11 1L8.5 8.5l.94-2.06 2.06-.94-2.06-.94L8.5 2.5l-.94 2.06-2.06.94zm10 10l.94 2.06.94-2.06 2.06-.94-2.06-.94-.94-2.06-.94 2.06-2.06.94z\"/><path d=\"M17.41 7.96l-1.37-1.37c-.4-.4-.92-.59-1.43-.59-.52 0-1.04.2-1.43.59L10.3 9.45l-7.72 7.72c-.78.78-.78 2.05 0 2.83L4 21.41c.39.39.9.59 1.41.59.51 0 1.02-.2 1.41-.59l7.78-7.78 2.81-2.81c.8-.78.8-2.07 0-2.86zM5.41 20L4 18.59l7.72-7.72 1.47 1.35L5.41 20z\"/>\n",
              "  </svg>\n",
              "      </button>\n",
              "      \n",
              "  <style>\n",
              "    .colab-df-container {\n",
              "      display:flex;\n",
              "      flex-wrap:wrap;\n",
              "      gap: 12px;\n",
              "    }\n",
              "\n",
              "    .colab-df-convert {\n",
              "      background-color: #E8F0FE;\n",
              "      border: none;\n",
              "      border-radius: 50%;\n",
              "      cursor: pointer;\n",
              "      display: none;\n",
              "      fill: #1967D2;\n",
              "      height: 32px;\n",
              "      padding: 0 0 0 0;\n",
              "      width: 32px;\n",
              "    }\n",
              "\n",
              "    .colab-df-convert:hover {\n",
              "      background-color: #E2EBFA;\n",
              "      box-shadow: 0px 1px 2px rgba(60, 64, 67, 0.3), 0px 1px 3px 1px rgba(60, 64, 67, 0.15);\n",
              "      fill: #174EA6;\n",
              "    }\n",
              "\n",
              "    [theme=dark] .colab-df-convert {\n",
              "      background-color: #3B4455;\n",
              "      fill: #D2E3FC;\n",
              "    }\n",
              "\n",
              "    [theme=dark] .colab-df-convert:hover {\n",
              "      background-color: #434B5C;\n",
              "      box-shadow: 0px 1px 3px 1px rgba(0, 0, 0, 0.15);\n",
              "      filter: drop-shadow(0px 1px 2px rgba(0, 0, 0, 0.3));\n",
              "      fill: #FFFFFF;\n",
              "    }\n",
              "  </style>\n",
              "\n",
              "      <script>\n",
              "        const buttonEl =\n",
              "          document.querySelector('#df-6614dfc3-7133-4c8e-bbab-ef49059e375c button.colab-df-convert');\n",
              "        buttonEl.style.display =\n",
              "          google.colab.kernel.accessAllowed ? 'block' : 'none';\n",
              "\n",
              "        async function convertToInteractive(key) {\n",
              "          const element = document.querySelector('#df-6614dfc3-7133-4c8e-bbab-ef49059e375c');\n",
              "          const dataTable =\n",
              "            await google.colab.kernel.invokeFunction('convertToInteractive',\n",
              "                                                     [key], {});\n",
              "          if (!dataTable) return;\n",
              "\n",
              "          const docLinkHtml = 'Like what you see? Visit the ' +\n",
              "            '<a target=\"_blank\" href=https://colab.research.google.com/notebooks/data_table.ipynb>data table notebook</a>'\n",
              "            + ' to learn more about interactive tables.';\n",
              "          element.innerHTML = '';\n",
              "          dataTable['output_type'] = 'display_data';\n",
              "          await google.colab.output.renderOutput(dataTable, element);\n",
              "          const docLink = document.createElement('div');\n",
              "          docLink.innerHTML = docLinkHtml;\n",
              "          element.appendChild(docLink);\n",
              "        }\n",
              "      </script>\n",
              "    </div>\n",
              "  </div>\n",
              "  "
            ],
            "text/plain": [
              "          price event_type\n",
              "112860   -23.81   purchase\n",
              "1783312  -23.81   purchase\n",
              "2143762  -23.81   purchase\n",
              "3608726  -23.81   purchase\n",
              "3798007  -23.81   purchase\n",
              "4510520  -23.81   purchase\n",
              "4510521  -23.81   purchase\n",
              "5474456  -23.81   purchase\n",
              "6412556  -23.81   purchase\n",
              "7216495  -23.81   purchase\n",
              "8480291  -23.81   purchase\n",
              "10405488 -23.81   purchase\n",
              "11836953 -23.81   purchase"
            ]
          },
          "metadata": {},
          "execution_count": 14
        }
      ]
    },
    {
      "cell_type": "markdown",
      "source": [
        "The full view of the table above shows that all events types with negative values are purchases.\n",
        "Let's find out if there are any purchases with prices greater than zero"
      ],
      "metadata": {
        "id": "S5BT122_Kcko"
      }
    },
    {
      "cell_type": "code",
      "source": [
        "months[months['price']>0][months['event_type']=='purchase'].shape"
      ],
      "metadata": {
        "colab": {
          "base_uri": "https://localhost:8080/"
        },
        "id": "FMFYNPqcMEDg",
        "outputId": "bba0b2a7-e112-4e58-b622-2333a5d19eb5"
      },
      "execution_count": 15,
      "outputs": [
        {
          "output_type": "stream",
          "name": "stderr",
          "text": [
            "/usr/local/lib/python3.7/dist-packages/ipykernel_launcher.py:1: UserWarning: Boolean Series key will be reindexed to match DataFrame index.\n",
            "  \"\"\"Entry point for launching an IPython kernel.\n"
          ]
        },
        {
          "output_type": "execute_result",
          "data": {
            "text/plain": [
              "(781162, 15)"
            ]
          },
          "metadata": {},
          "execution_count": 15
        }
      ]
    },
    {
      "cell_type": "markdown",
      "source": [
        "There are purchases with prices greather than zero. Why does some products have negative price values?"
      ],
      "metadata": {
        "id": "7joArIMJMmvr"
      }
    },
    {
      "cell_type": "code",
      "source": [
        "months[months['event_type']=='purchase'].shape"
      ],
      "metadata": {
        "colab": {
          "base_uri": "https://localhost:8080/"
        },
        "id": "0m7Nsw0rOf_2",
        "outputId": "16f22d8d-dc27-4d4c-8849-77821f413c6f"
      },
      "execution_count": 16,
      "outputs": [
        {
          "output_type": "execute_result",
          "data": {
            "text/plain": [
              "(781217, 15)"
            ]
          },
          "metadata": {},
          "execution_count": 16
        }
      ]
    },
    {
      "cell_type": "markdown",
      "source": [
        "This confirms that there are only 55 purchases with negative purchase prices. We can remove them from the list and they will not affect the outcome of the analysis."
      ],
      "metadata": {
        "id": "s3B1T9_FPpKX"
      }
    },
    {
      "cell_type": "code",
      "source": [
        "bad_rows = list(months[months['price']<0].index)\n",
        "months.drop(bad_rows, inplace=True, axis=0)"
      ],
      "metadata": {
        "id": "1_d7u_aR_SYf"
      },
      "execution_count": 17,
      "outputs": []
    },
    {
      "cell_type": "code",
      "source": [
        "months.describe()"
      ],
      "metadata": {
        "colab": {
          "base_uri": "https://localhost:8080/",
          "height": 300
        },
        "id": "g9GOB4UhkTVR",
        "outputId": "35df4c35-c041-4db3-f21d-ec54c43c065c"
      },
      "execution_count": 18,
      "outputs": [
        {
          "output_type": "execute_result",
          "data": {
            "text/html": [
              "\n",
              "  <div id=\"df-c54fb895-a461-4373-85bd-929f76f3cf6f\">\n",
              "    <div class=\"colab-df-container\">\n",
              "      <div>\n",
              "<style scoped>\n",
              "    .dataframe tbody tr th:only-of-type {\n",
              "        vertical-align: middle;\n",
              "    }\n",
              "\n",
              "    .dataframe tbody tr th {\n",
              "        vertical-align: top;\n",
              "    }\n",
              "\n",
              "    .dataframe thead th {\n",
              "        text-align: right;\n",
              "    }\n",
              "</style>\n",
              "<table border=\"1\" class=\"dataframe\">\n",
              "  <thead>\n",
              "    <tr style=\"text-align: right;\">\n",
              "      <th></th>\n",
              "      <th>product_id</th>\n",
              "      <th>category_id</th>\n",
              "      <th>price</th>\n",
              "      <th>user_id</th>\n",
              "      <th>hour</th>\n",
              "      <th>day</th>\n",
              "      <th>day_of_week</th>\n",
              "      <th>day_of_year</th>\n",
              "      <th>week</th>\n",
              "      <th>month</th>\n",
              "    </tr>\n",
              "  </thead>\n",
              "  <tbody>\n",
              "    <tr>\n",
              "      <th>count</th>\n",
              "      <td>1.227135e+07</td>\n",
              "      <td>1.227135e+07</td>\n",
              "      <td>1.227135e+07</td>\n",
              "      <td>1.227135e+07</td>\n",
              "      <td>1.227135e+07</td>\n",
              "      <td>1.227135e+07</td>\n",
              "      <td>1.227135e+07</td>\n",
              "      <td>1.227135e+07</td>\n",
              "      <td>1.227135e+07</td>\n",
              "      <td>1.227135e+07</td>\n",
              "    </tr>\n",
              "    <tr>\n",
              "      <th>mean</th>\n",
              "      <td>5.474674e+06</td>\n",
              "      <td>1.550012e+18</td>\n",
              "      <td>8.475619e+00</td>\n",
              "      <td>5.094499e+08</td>\n",
              "      <td>1.302788e+01</td>\n",
              "      <td>1.556036e+01</td>\n",
              "      <td>2.930153e+00</td>\n",
              "      <td>3.178350e+02</td>\n",
              "      <td>4.559335e+01</td>\n",
              "      <td>1.095363e+01</td>\n",
              "    </tr>\n",
              "    <tr>\n",
              "      <th>std</th>\n",
              "      <td>1.318496e+06</td>\n",
              "      <td>1.630760e+17</td>\n",
              "      <td>1.922216e+01</td>\n",
              "      <td>8.434734e+07</td>\n",
              "      <td>5.486394e+00</td>\n",
              "      <td>8.769865e+00</td>\n",
              "      <td>1.975982e+00</td>\n",
              "      <td>2.522649e+01</td>\n",
              "      <td>5.270974e+00</td>\n",
              "      <td>7.874479e-01</td>\n",
              "    </tr>\n",
              "    <tr>\n",
              "      <th>min</th>\n",
              "      <td>3.752000e+03</td>\n",
              "      <td>1.487580e+18</td>\n",
              "      <td>0.000000e+00</td>\n",
              "      <td>1.120748e+06</td>\n",
              "      <td>0.000000e+00</td>\n",
              "      <td>1.000000e+00</td>\n",
              "      <td>0.000000e+00</td>\n",
              "      <td>2.740000e+02</td>\n",
              "      <td>1.000000e+00</td>\n",
              "      <td>1.000000e+01</td>\n",
              "    </tr>\n",
              "    <tr>\n",
              "      <th>25%</th>\n",
              "      <td>5.723529e+06</td>\n",
              "      <td>1.487580e+18</td>\n",
              "      <td>2.050000e+00</td>\n",
              "      <td>4.738654e+08</td>\n",
              "      <td>9.000000e+00</td>\n",
              "      <td>8.000000e+00</td>\n",
              "      <td>1.000000e+00</td>\n",
              "      <td>2.960000e+02</td>\n",
              "      <td>4.300000e+01</td>\n",
              "      <td>1.000000e+01</td>\n",
              "    </tr>\n",
              "    <tr>\n",
              "      <th>50%</th>\n",
              "      <td>5.809911e+06</td>\n",
              "      <td>1.487580e+18</td>\n",
              "      <td>4.000000e+00</td>\n",
              "      <td>5.448424e+08</td>\n",
              "      <td>1.300000e+01</td>\n",
              "      <td>1.600000e+01</td>\n",
              "      <td>3.000000e+00</td>\n",
              "      <td>3.190000e+02</td>\n",
              "      <td>4.600000e+01</td>\n",
              "      <td>1.100000e+01</td>\n",
              "    </tr>\n",
              "    <tr>\n",
              "      <th>75%</th>\n",
              "      <td>5.854897e+06</td>\n",
              "      <td>1.487580e+18</td>\n",
              "      <td>6.900000e+00</td>\n",
              "      <td>5.655666e+08</td>\n",
              "      <td>1.800000e+01</td>\n",
              "      <td>2.300000e+01</td>\n",
              "      <td>5.000000e+00</td>\n",
              "      <td>3.380000e+02</td>\n",
              "      <td>4.900000e+01</td>\n",
              "      <td>1.200000e+01</td>\n",
              "    </tr>\n",
              "    <tr>\n",
              "      <th>max</th>\n",
              "      <td>5.917178e+06</td>\n",
              "      <td>2.235524e+18</td>\n",
              "      <td>3.277800e+02</td>\n",
              "      <td>5.954145e+08</td>\n",
              "      <td>2.300000e+01</td>\n",
              "      <td>3.100000e+01</td>\n",
              "      <td>6.000000e+00</td>\n",
              "      <td>3.650000e+02</td>\n",
              "      <td>5.200000e+01</td>\n",
              "      <td>1.200000e+01</td>\n",
              "    </tr>\n",
              "  </tbody>\n",
              "</table>\n",
              "</div>\n",
              "      <button class=\"colab-df-convert\" onclick=\"convertToInteractive('df-c54fb895-a461-4373-85bd-929f76f3cf6f')\"\n",
              "              title=\"Convert this dataframe to an interactive table.\"\n",
              "              style=\"display:none;\">\n",
              "        \n",
              "  <svg xmlns=\"http://www.w3.org/2000/svg\" height=\"24px\"viewBox=\"0 0 24 24\"\n",
              "       width=\"24px\">\n",
              "    <path d=\"M0 0h24v24H0V0z\" fill=\"none\"/>\n",
              "    <path d=\"M18.56 5.44l.94 2.06.94-2.06 2.06-.94-2.06-.94-.94-2.06-.94 2.06-2.06.94zm-11 1L8.5 8.5l.94-2.06 2.06-.94-2.06-.94L8.5 2.5l-.94 2.06-2.06.94zm10 10l.94 2.06.94-2.06 2.06-.94-2.06-.94-.94-2.06-.94 2.06-2.06.94z\"/><path d=\"M17.41 7.96l-1.37-1.37c-.4-.4-.92-.59-1.43-.59-.52 0-1.04.2-1.43.59L10.3 9.45l-7.72 7.72c-.78.78-.78 2.05 0 2.83L4 21.41c.39.39.9.59 1.41.59.51 0 1.02-.2 1.41-.59l7.78-7.78 2.81-2.81c.8-.78.8-2.07 0-2.86zM5.41 20L4 18.59l7.72-7.72 1.47 1.35L5.41 20z\"/>\n",
              "  </svg>\n",
              "      </button>\n",
              "      \n",
              "  <style>\n",
              "    .colab-df-container {\n",
              "      display:flex;\n",
              "      flex-wrap:wrap;\n",
              "      gap: 12px;\n",
              "    }\n",
              "\n",
              "    .colab-df-convert {\n",
              "      background-color: #E8F0FE;\n",
              "      border: none;\n",
              "      border-radius: 50%;\n",
              "      cursor: pointer;\n",
              "      display: none;\n",
              "      fill: #1967D2;\n",
              "      height: 32px;\n",
              "      padding: 0 0 0 0;\n",
              "      width: 32px;\n",
              "    }\n",
              "\n",
              "    .colab-df-convert:hover {\n",
              "      background-color: #E2EBFA;\n",
              "      box-shadow: 0px 1px 2px rgba(60, 64, 67, 0.3), 0px 1px 3px 1px rgba(60, 64, 67, 0.15);\n",
              "      fill: #174EA6;\n",
              "    }\n",
              "\n",
              "    [theme=dark] .colab-df-convert {\n",
              "      background-color: #3B4455;\n",
              "      fill: #D2E3FC;\n",
              "    }\n",
              "\n",
              "    [theme=dark] .colab-df-convert:hover {\n",
              "      background-color: #434B5C;\n",
              "      box-shadow: 0px 1px 3px 1px rgba(0, 0, 0, 0.15);\n",
              "      filter: drop-shadow(0px 1px 2px rgba(0, 0, 0, 0.3));\n",
              "      fill: #FFFFFF;\n",
              "    }\n",
              "  </style>\n",
              "\n",
              "      <script>\n",
              "        const buttonEl =\n",
              "          document.querySelector('#df-c54fb895-a461-4373-85bd-929f76f3cf6f button.colab-df-convert');\n",
              "        buttonEl.style.display =\n",
              "          google.colab.kernel.accessAllowed ? 'block' : 'none';\n",
              "\n",
              "        async function convertToInteractive(key) {\n",
              "          const element = document.querySelector('#df-c54fb895-a461-4373-85bd-929f76f3cf6f');\n",
              "          const dataTable =\n",
              "            await google.colab.kernel.invokeFunction('convertToInteractive',\n",
              "                                                     [key], {});\n",
              "          if (!dataTable) return;\n",
              "\n",
              "          const docLinkHtml = 'Like what you see? Visit the ' +\n",
              "            '<a target=\"_blank\" href=https://colab.research.google.com/notebooks/data_table.ipynb>data table notebook</a>'\n",
              "            + ' to learn more about interactive tables.';\n",
              "          element.innerHTML = '';\n",
              "          dataTable['output_type'] = 'display_data';\n",
              "          await google.colab.output.renderOutput(dataTable, element);\n",
              "          const docLink = document.createElement('div');\n",
              "          docLink.innerHTML = docLinkHtml;\n",
              "          element.appendChild(docLink);\n",
              "        }\n",
              "      </script>\n",
              "    </div>\n",
              "  </div>\n",
              "  "
            ],
            "text/plain": [
              "         product_id   category_id  ...          week         month\n",
              "count  1.227135e+07  1.227135e+07  ...  1.227135e+07  1.227135e+07\n",
              "mean   5.474674e+06  1.550012e+18  ...  4.559335e+01  1.095363e+01\n",
              "std    1.318496e+06  1.630760e+17  ...  5.270974e+00  7.874479e-01\n",
              "min    3.752000e+03  1.487580e+18  ...  1.000000e+00  1.000000e+01\n",
              "25%    5.723529e+06  1.487580e+18  ...  4.300000e+01  1.000000e+01\n",
              "50%    5.809911e+06  1.487580e+18  ...  4.600000e+01  1.100000e+01\n",
              "75%    5.854897e+06  1.487580e+18  ...  4.900000e+01  1.200000e+01\n",
              "max    5.917178e+06  2.235524e+18  ...  5.200000e+01  1.200000e+01\n",
              "\n",
              "[8 rows x 10 columns]"
            ]
          },
          "metadata": {},
          "execution_count": 18
        }
      ]
    },
    {
      "cell_type": "markdown",
      "source": [
        "Now, the minimum price is zero. There are also no null values"
      ],
      "metadata": {
        "id": "XmUH22B1k4Y-"
      }
    },
    {
      "cell_type": "markdown",
      "source": [
        "## Analyzing Data\n",
        "\n",
        "At this stage, we can begin to look at the relationships within the data, and prepare for visualization.\n",
        "\n",
        "Let's group the data by product_id and find the total number of products sold for each product."
      ],
      "metadata": {
        "id": "6Fm4Si4ukgaR"
      }
    },
    {
      "cell_type": "code",
      "source": [
        "purchase = months[months['event_type']=='purchase']\n",
        "# cart = months[months['event_type']=='cart']\n",
        "view = months[months['event_type']=='view']"
      ],
      "metadata": {
        "id": "bMGKJ-it8K9b"
      },
      "execution_count": 27,
      "outputs": []
    },
    {
      "cell_type": "code",
      "source": [
        "event_categories = months.groupby('event_type').count()"
      ],
      "metadata": {
        "id": "Tz7dIOdl80LS"
      },
      "execution_count": 20,
      "outputs": []
    },
    {
      "cell_type": "code",
      "source": [
        "num_products = purchase.groupby('product_id').count().sort_values(by='price', ascending=False)\n",
        "sumPrice_products = purchase.groupby('product_id').sum().sort_values(by='price', ascending=False)"
      ],
      "metadata": {
        "id": "r4T_4bYWk2ao"
      },
      "execution_count": 21,
      "outputs": []
    },
    {
      "cell_type": "markdown",
      "source": [
        "The most sold product by quantiy (5809910) is not the same as the most sold product by price sum (5560754).\n",
        "\n",
        "Let's form tables with the following definitions:\n",
        "* quantity_dayofyear: number of sales per day for the top product by quantity\n",
        "* sales_dayofyear: total sales per day for the top product by sales\n",
        "* quantity_week: number of sales per week for the top product by quantity\n",
        "* sales_week: total sales per week for the top product by sales\n",
        "* numSales_hour: number of sales by time of day\n",
        "* quantity_brand: number of sales for each brand\n",
        "* sales_brand: total sales for each brand\n",
        "* quantity_catID: number of purchases by category\n",
        "* sales_catID: total sales for each category"
      ],
      "metadata": {
        "id": "Q9EmwK1htjgl"
      }
    },
    {
      "cell_type": "code",
      "source": [
        "topQuantity_product = purchase[purchase['product_id']==5809910]\n",
        "topSales_product = purchase[purchase['product_id']==5560754]\n",
        "\n",
        "quantity_dayofyear = topQuantity_product.groupby('day_of_year').count().sort_values(by='day_of_year')\n",
        "sales_dayofyear = topSales_product.groupby('day_of_year').sum().sort_values(by='price')\n",
        "quantity_week = topQuantity_product.groupby('week').count().sort_values(by='week')\n",
        "sales_week = topSales_product.groupby('week').sum().sort_values(by='price')"
      ],
      "metadata": {
        "id": "Nr55VtGMt-XK"
      },
      "execution_count": 66,
      "outputs": []
    },
    {
      "cell_type": "code",
      "source": [
        "print('Brand of top product by quantity is {} \\nBrand of top product by total sales is {}'.format(\n",
        "    topQuantity_product['brand'].unique(), topSales_product['brand'].unique()))"
      ],
      "metadata": {
        "colab": {
          "base_uri": "https://localhost:8080/"
        },
        "id": "SZyNMc6nzzzA",
        "outputId": "25f31df4-2efb-4f23-8daa-531da7876199"
      },
      "execution_count": 23,
      "outputs": [
        {
          "output_type": "stream",
          "name": "stdout",
          "text": [
            "Brand of top product by quantity is ['grattol'] \n",
            "Brand of top product by total sales is ['strong']\n"
          ]
        }
      ]
    },
    {
      "cell_type": "code",
      "source": [
        "print('Category of top product by quantity is {} \\nCategory of top product by sales is {}'.format(\n",
        "    topQuantity_product['category_id'].unique(), topSales_product['category_id'].unique()\n",
        "))"
      ],
      "metadata": {
        "colab": {
          "base_uri": "https://localhost:8080/"
        },
        "id": "8u6Bt8ZU2Gtv",
        "outputId": "6eb9ac4e-e202-441b-a973-e2ad54c8bc1c"
      },
      "execution_count": 24,
      "outputs": [
        {
          "output_type": "stream",
          "name": "stdout",
          "text": [
            "Category of top product by quantity is [1602943681873052386] \n",
            "Category of top product by sales is [1487580006300255120]\n"
          ]
        }
      ]
    },
    {
      "cell_type": "code",
      "source": [
        "numSales_hour = purchase.groupby('hour').count().sort_values(by='hour', ascending=True)\n",
        "quantity_brand = purchase.groupby('brand').count().sort_values(by='price', ascending=False)\n",
        "sales_brand = purchase.groupby('brand').sum().sort_values(by='price', ascending=False)"
      ],
      "metadata": {
        "id": "A0cAnIjIxIXB"
      },
      "execution_count": 25,
      "outputs": []
    },
    {
      "cell_type": "code",
      "source": [
        "quantity_catID = purchase.groupby('category_id').count().sort_values(by='price', ascending=False)\n",
        "sales_catID = purchase.groupby('category_id').sum().sort_values(by='price', ascending=False)"
      ],
      "metadata": {
        "id": "iCjgVM5D2tTi"
      },
      "execution_count": 26,
      "outputs": []
    },
    {
      "cell_type": "code",
      "source": [
        "purchase['week'].unique()"
      ],
      "metadata": {
        "colab": {
          "base_uri": "https://localhost:8080/"
        },
        "id": "P_ploDdsvxqY",
        "outputId": "9e7807a3-50ab-44d8-98d1-12b21e8d5625"
      },
      "execution_count": 29,
      "outputs": [
        {
          "output_type": "execute_result",
          "data": {
            "text/plain": [
              "array([40, 41, 42, 43, 44, 45, 46, 47, 48, 49, 50, 51, 52,  1],\n",
              "      dtype=int16)"
            ]
          },
          "metadata": {},
          "execution_count": 29
        }
      ]
    },
    {
      "cell_type": "code",
      "source": [
        "weeks_catID = dict(week=[], cat1=[], cat2=[], cat3=[])\n",
        "\n",
        "week = purchase['week'].unique()\n",
        "for w in week:\n",
        "  x = purchase[purchase['week']==w]\n",
        "  y=x.groupby('category_id').count().sort_values(by='price', ascending=False)\n",
        "  weeks_catID['week'].append(w)\n",
        "  weeks_catID['cat1'].append(y.index[0])\n",
        "  weeks_catID['cat2'].append(y.index[1])\n",
        "  weeks_catID['cat3'].append(y.index[2])"
      ],
      "metadata": {
        "id": "exnuwRVNtl8S"
      },
      "execution_count": 41,
      "outputs": []
    },
    {
      "cell_type": "code",
      "source": [
        "cat_df = pd.DataFrame(weeks_catID)\n",
        "cat_df"
      ],
      "metadata": {
        "colab": {
          "base_uri": "https://localhost:8080/",
          "height": 488
        },
        "id": "LImFqOvwzfYZ",
        "outputId": "7290b3a9-38b9-46a0-c1d9-9e06ac7f6960"
      },
      "execution_count": 104,
      "outputs": [
        {
          "output_type": "execute_result",
          "data": {
            "text/html": [
              "\n",
              "  <div id=\"df-e30fa074-2860-4ee0-be5e-798781c87025\">\n",
              "    <div class=\"colab-df-container\">\n",
              "      <div>\n",
              "<style scoped>\n",
              "    .dataframe tbody tr th:only-of-type {\n",
              "        vertical-align: middle;\n",
              "    }\n",
              "\n",
              "    .dataframe tbody tr th {\n",
              "        vertical-align: top;\n",
              "    }\n",
              "\n",
              "    .dataframe thead th {\n",
              "        text-align: right;\n",
              "    }\n",
              "</style>\n",
              "<table border=\"1\" class=\"dataframe\">\n",
              "  <thead>\n",
              "    <tr style=\"text-align: right;\">\n",
              "      <th></th>\n",
              "      <th>week</th>\n",
              "      <th>cat1</th>\n",
              "      <th>cat2</th>\n",
              "      <th>cat3</th>\n",
              "    </tr>\n",
              "  </thead>\n",
              "  <tbody>\n",
              "    <tr>\n",
              "      <th>0</th>\n",
              "      <td>40</td>\n",
              "      <td>1487580005134238553</td>\n",
              "      <td>1487580007675986893</td>\n",
              "      <td>1487580006317032337</td>\n",
              "    </tr>\n",
              "    <tr>\n",
              "      <th>1</th>\n",
              "      <td>41</td>\n",
              "      <td>1487580007675986893</td>\n",
              "      <td>1487580005754995573</td>\n",
              "      <td>1487580006317032337</td>\n",
              "    </tr>\n",
              "    <tr>\n",
              "      <th>2</th>\n",
              "      <td>42</td>\n",
              "      <td>1487580007675986893</td>\n",
              "      <td>1487580006317032337</td>\n",
              "      <td>1487580005754995573</td>\n",
              "    </tr>\n",
              "    <tr>\n",
              "      <th>3</th>\n",
              "      <td>43</td>\n",
              "      <td>1487580005671109489</td>\n",
              "      <td>1487580007675986893</td>\n",
              "      <td>1487580005427839846</td>\n",
              "    </tr>\n",
              "    <tr>\n",
              "      <th>4</th>\n",
              "      <td>44</td>\n",
              "      <td>1487580005671109489</td>\n",
              "      <td>1487580007675986893</td>\n",
              "      <td>1487580005427839846</td>\n",
              "    </tr>\n",
              "    <tr>\n",
              "      <th>5</th>\n",
              "      <td>45</td>\n",
              "      <td>1487580007675986893</td>\n",
              "      <td>1487580005595612013</td>\n",
              "      <td>1487580006317032337</td>\n",
              "    </tr>\n",
              "    <tr>\n",
              "      <th>6</th>\n",
              "      <td>46</td>\n",
              "      <td>1487580005595612013</td>\n",
              "      <td>1487580007675986893</td>\n",
              "      <td>1487580006317032337</td>\n",
              "    </tr>\n",
              "    <tr>\n",
              "      <th>7</th>\n",
              "      <td>47</td>\n",
              "      <td>1487580007675986893</td>\n",
              "      <td>1487580006317032337</td>\n",
              "      <td>1487580005092295511</td>\n",
              "    </tr>\n",
              "    <tr>\n",
              "      <th>8</th>\n",
              "      <td>48</td>\n",
              "      <td>1487580007675986893</td>\n",
              "      <td>1487580005671109489</td>\n",
              "      <td>1487580006317032337</td>\n",
              "    </tr>\n",
              "    <tr>\n",
              "      <th>9</th>\n",
              "      <td>49</td>\n",
              "      <td>1487580007675986893</td>\n",
              "      <td>1487580005671109489</td>\n",
              "      <td>1487580006317032337</td>\n",
              "    </tr>\n",
              "    <tr>\n",
              "      <th>10</th>\n",
              "      <td>50</td>\n",
              "      <td>1487580007675986893</td>\n",
              "      <td>1487580005754995573</td>\n",
              "      <td>1487580006317032337</td>\n",
              "    </tr>\n",
              "    <tr>\n",
              "      <th>11</th>\n",
              "      <td>51</td>\n",
              "      <td>1487580007675986893</td>\n",
              "      <td>1487580006317032337</td>\n",
              "      <td>1487580005092295511</td>\n",
              "    </tr>\n",
              "    <tr>\n",
              "      <th>12</th>\n",
              "      <td>52</td>\n",
              "      <td>1487580005595612013</td>\n",
              "      <td>1487580007675986893</td>\n",
              "      <td>1487580006317032337</td>\n",
              "    </tr>\n",
              "    <tr>\n",
              "      <th>13</th>\n",
              "      <td>1</td>\n",
              "      <td>1487580005595612013</td>\n",
              "      <td>1487580006317032337</td>\n",
              "      <td>1487580005092295511</td>\n",
              "    </tr>\n",
              "  </tbody>\n",
              "</table>\n",
              "</div>\n",
              "      <button class=\"colab-df-convert\" onclick=\"convertToInteractive('df-e30fa074-2860-4ee0-be5e-798781c87025')\"\n",
              "              title=\"Convert this dataframe to an interactive table.\"\n",
              "              style=\"display:none;\">\n",
              "        \n",
              "  <svg xmlns=\"http://www.w3.org/2000/svg\" height=\"24px\"viewBox=\"0 0 24 24\"\n",
              "       width=\"24px\">\n",
              "    <path d=\"M0 0h24v24H0V0z\" fill=\"none\"/>\n",
              "    <path d=\"M18.56 5.44l.94 2.06.94-2.06 2.06-.94-2.06-.94-.94-2.06-.94 2.06-2.06.94zm-11 1L8.5 8.5l.94-2.06 2.06-.94-2.06-.94L8.5 2.5l-.94 2.06-2.06.94zm10 10l.94 2.06.94-2.06 2.06-.94-2.06-.94-.94-2.06-.94 2.06-2.06.94z\"/><path d=\"M17.41 7.96l-1.37-1.37c-.4-.4-.92-.59-1.43-.59-.52 0-1.04.2-1.43.59L10.3 9.45l-7.72 7.72c-.78.78-.78 2.05 0 2.83L4 21.41c.39.39.9.59 1.41.59.51 0 1.02-.2 1.41-.59l7.78-7.78 2.81-2.81c.8-.78.8-2.07 0-2.86zM5.41 20L4 18.59l7.72-7.72 1.47 1.35L5.41 20z\"/>\n",
              "  </svg>\n",
              "      </button>\n",
              "      \n",
              "  <style>\n",
              "    .colab-df-container {\n",
              "      display:flex;\n",
              "      flex-wrap:wrap;\n",
              "      gap: 12px;\n",
              "    }\n",
              "\n",
              "    .colab-df-convert {\n",
              "      background-color: #E8F0FE;\n",
              "      border: none;\n",
              "      border-radius: 50%;\n",
              "      cursor: pointer;\n",
              "      display: none;\n",
              "      fill: #1967D2;\n",
              "      height: 32px;\n",
              "      padding: 0 0 0 0;\n",
              "      width: 32px;\n",
              "    }\n",
              "\n",
              "    .colab-df-convert:hover {\n",
              "      background-color: #E2EBFA;\n",
              "      box-shadow: 0px 1px 2px rgba(60, 64, 67, 0.3), 0px 1px 3px 1px rgba(60, 64, 67, 0.15);\n",
              "      fill: #174EA6;\n",
              "    }\n",
              "\n",
              "    [theme=dark] .colab-df-convert {\n",
              "      background-color: #3B4455;\n",
              "      fill: #D2E3FC;\n",
              "    }\n",
              "\n",
              "    [theme=dark] .colab-df-convert:hover {\n",
              "      background-color: #434B5C;\n",
              "      box-shadow: 0px 1px 3px 1px rgba(0, 0, 0, 0.15);\n",
              "      filter: drop-shadow(0px 1px 2px rgba(0, 0, 0, 0.3));\n",
              "      fill: #FFFFFF;\n",
              "    }\n",
              "  </style>\n",
              "\n",
              "      <script>\n",
              "        const buttonEl =\n",
              "          document.querySelector('#df-e30fa074-2860-4ee0-be5e-798781c87025 button.colab-df-convert');\n",
              "        buttonEl.style.display =\n",
              "          google.colab.kernel.accessAllowed ? 'block' : 'none';\n",
              "\n",
              "        async function convertToInteractive(key) {\n",
              "          const element = document.querySelector('#df-e30fa074-2860-4ee0-be5e-798781c87025');\n",
              "          const dataTable =\n",
              "            await google.colab.kernel.invokeFunction('convertToInteractive',\n",
              "                                                     [key], {});\n",
              "          if (!dataTable) return;\n",
              "\n",
              "          const docLinkHtml = 'Like what you see? Visit the ' +\n",
              "            '<a target=\"_blank\" href=https://colab.research.google.com/notebooks/data_table.ipynb>data table notebook</a>'\n",
              "            + ' to learn more about interactive tables.';\n",
              "          element.innerHTML = '';\n",
              "          dataTable['output_type'] = 'display_data';\n",
              "          await google.colab.output.renderOutput(dataTable, element);\n",
              "          const docLink = document.createElement('div');\n",
              "          docLink.innerHTML = docLinkHtml;\n",
              "          element.appendChild(docLink);\n",
              "        }\n",
              "      </script>\n",
              "    </div>\n",
              "  </div>\n",
              "  "
            ],
            "text/plain": [
              "    week                 cat1                 cat2                 cat3\n",
              "0     40  1487580005134238553  1487580007675986893  1487580006317032337\n",
              "1     41  1487580007675986893  1487580005754995573  1487580006317032337\n",
              "2     42  1487580007675986893  1487580006317032337  1487580005754995573\n",
              "3     43  1487580005671109489  1487580007675986893  1487580005427839846\n",
              "4     44  1487580005671109489  1487580007675986893  1487580005427839846\n",
              "5     45  1487580007675986893  1487580005595612013  1487580006317032337\n",
              "6     46  1487580005595612013  1487580007675986893  1487580006317032337\n",
              "7     47  1487580007675986893  1487580006317032337  1487580005092295511\n",
              "8     48  1487580007675986893  1487580005671109489  1487580006317032337\n",
              "9     49  1487580007675986893  1487580005671109489  1487580006317032337\n",
              "10    50  1487580007675986893  1487580005754995573  1487580006317032337\n",
              "11    51  1487580007675986893  1487580006317032337  1487580005092295511\n",
              "12    52  1487580005595612013  1487580007675986893  1487580006317032337\n",
              "13     1  1487580005595612013  1487580006317032337  1487580005092295511"
            ]
          },
          "metadata": {},
          "execution_count": 104
        }
      ]
    },
    {
      "cell_type": "markdown",
      "source": [
        "The table above (cat_df) contains the top 3 categories of products that were sold each week by number.\n",
        "\n",
        "One can ask, is the most viewed product also the most purchased?"
      ],
      "metadata": {
        "id": "ThCDdnFCsXwp"
      }
    },
    {
      "cell_type": "code",
      "source": [
        "view.groupby('product_id').count().sort_values(by='price', ascending=False)"
      ],
      "metadata": {
        "id": "VBDaYnKmr4q0"
      },
      "execution_count": null,
      "outputs": []
    },
    {
      "cell_type": "markdown",
      "source": [
        "The most viwed product is 5809910. It is also the most purchased product."
      ],
      "metadata": {
        "id": "EkjkqZwktDDE"
      }
    },
    {
      "cell_type": "markdown",
      "source": [
        "## Visualization\n",
        "\n",
        "In this section we will create charts that represents each table so that we can share a visual represntation of this evaluation with the stakeholders at REES46"
      ],
      "metadata": {
        "id": "wKgEmBTk0zf2"
      }
    },
    {
      "cell_type": "code",
      "source": [
        "fig, ax = plt.subplots(figsize=(10,5))\n",
        "sns.countplot(x='event_type', data=months, palette=palette)\n",
        "ax.set_title('Number of events by event type')"
      ],
      "metadata": {
        "colab": {
          "base_uri": "https://localhost:8080/",
          "height": 368
        },
        "id": "xlz39zQTDJgD",
        "outputId": "9a261eb8-3c85-4a29-ae73-0690781c91fc"
      },
      "execution_count": 82,
      "outputs": [
        {
          "output_type": "execute_result",
          "data": {
            "text/plain": [
              "Text(0.5, 1.0, 'Number of events by event type')"
            ]
          },
          "metadata": {},
          "execution_count": 82
        },
        {
          "output_type": "display_data",
          "data": {
            "image/png": "[encoded data removed]",
            "text/plain": [
              "<Figure size 720x360 with 1 Axes>"
            ]
          },
          "metadata": {}
        }
      ]
    },
    {
      "cell_type": "markdown",
      "source": [
        "The number of products completed sales is the lowest among the three event types\n",
        "\n"
      ],
      "metadata": {
        "id": "pXYqQjbcQddm"
      }
    },
    {
      "cell_type": "markdown",
      "source": [
        "**Focusing on the purchases:**\n",
        "\n",
        "Number of sales per day for the top product by quantity"
      ],
      "metadata": {
        "id": "0TgdyRQM1JY2"
      }
    },
    {
      "cell_type": "code",
      "source": [
        "fig, ax = plt.subplots(figsize=(24,6))\n",
        "sns.pointplot(x=quantity_dayofyear.index, y='price', data=quantity_dayofyear)\n",
        "ax.set_title('Top product sales by day of the year')\n",
        "ax.set_xlabel('Day of year')\n",
        "ax.set_ylabel('Number sold')"
      ],
      "metadata": {
        "colab": {
          "base_uri": "https://localhost:8080/",
          "height": 384
        },
        "id": "FqnRsoF21-7e",
        "outputId": "a295f33c-3a6f-4f53-a3f0-62aaf70c2fc5"
      },
      "execution_count": 94,
      "outputs": [
        {
          "output_type": "execute_result",
          "data": {
            "text/plain": [
              "Text(0, 0.5, 'Number sold')"
            ]
          },
          "metadata": {},
          "execution_count": 94
        },
        {
          "output_type": "display_data",
          "data": {
            "image/png": "[encoded data removed]",
            "text/plain": [
              "<Figure size 1728x432 with 1 Axes>"
            ]
          },
          "metadata": {}
        }
      ]
    },
    {
      "cell_type": "code",
      "source": [
        "datetime.strptime(\"2019\" + \"-\" + \"328\", \"%Y-%j\").strftime(\"%m-%d-%Y\")"
      ],
      "metadata": {
        "colab": {
          "base_uri": "https://localhost:8080/",
          "height": 35
        },
        "id": "Lgh96Wua7spP",
        "outputId": "458bfa6a-d4ca-4590-f681-32fc9fdab24c"
      },
      "execution_count": 58,
      "outputs": [
        {
          "output_type": "execute_result",
          "data": {
            "application/vnd.google.colaboratory.intrinsic+json": {
              "type": "string"
            },
            "text/plain": [
              "'11-24-2019'"
            ]
          },
          "metadata": {},
          "execution_count": 58
        }
      ]
    },
    {
      "cell_type": "markdown",
      "source": [
        "This figure shows that the days with the highest number of sales were 22 - 24 November. This was the black friday sales period.\n",
        "\n",
        "Total sales per day for the top product by sales"
      ],
      "metadata": {
        "id": "d3RfkaZ2UMwP"
      }
    },
    {
      "cell_type": "code",
      "source": [
        "fig, ax = plt.subplots(figsize=(24,6))\n",
        "sns.pointplot(x=sales_dayofyear.index, y='price', data=sales_dayofyear)\n",
        "ax.set_title('Top product total sales by day of the year')\n",
        "ax.set_xlabel('Day of year')\n",
        "ax.set_ylabel('Total Price ($)')"
      ],
      "metadata": {
        "colab": {
          "base_uri": "https://localhost:8080/",
          "height": 382
        },
        "id": "wJUM-__78bO3",
        "outputId": "32c8532b-b4b3-4f2a-f15a-683e9e58570b"
      },
      "execution_count": 95,
      "outputs": [
        {
          "output_type": "execute_result",
          "data": {
            "text/plain": [
              "Text(0, 0.5, 'Total Price ($)')"
            ]
          },
          "metadata": {},
          "execution_count": 95
        },
        {
          "output_type": "display_data",
          "data": {
            "image/png": "[encoded data removed]",
            "text/plain": [
              "<Figure size 1728x432 with 1 Axes>"
            ]
          },
          "metadata": {}
        }
      ]
    },
    {
      "cell_type": "markdown",
      "source": [
        "The total price per day sale for the best product by total sale price was also in the black friday sales period. However, it was not the same product with the highest quantity of sales.\n",
        "\n",
        "Number of sales per week for the top product by quantity"
      ],
      "metadata": {
        "id": "w8cw2vYg9Hez"
      }
    },
    {
      "cell_type": "code",
      "source": [
        "fig, ax = plt.subplots(figsize=(10,5))\n",
        "sns.barplot(x=quantity_week.index, y='price', data=quantity_week, palette=palette)\n",
        "ax.set_ylabel('Number of sales')\n",
        "ax.set_xlabel('Weeks')\n",
        "ax.set_title('Number of sales per week for the top product by quantity')"
      ],
      "metadata": {
        "colab": {
          "base_uri": "https://localhost:8080/",
          "height": 367
        },
        "id": "BSL2ZMFL9XIb",
        "outputId": "2f196626-db48-4560-ceb9-53560d1855d8"
      },
      "execution_count": 69,
      "outputs": [
        {
          "output_type": "execute_result",
          "data": {
            "text/plain": [
              "Text(0.5, 1.0, 'Number of sales per week for the top product by quantity')"
            ]
          },
          "metadata": {},
          "execution_count": 69
        },
        {
          "output_type": "display_data",
          "data": {
            "image/png": "[encoded data removed]",
            "text/plain": [
              "<Figure size 720x360 with 1 Axes>"
            ]
          },
          "metadata": {}
        }
      ]
    },
    {
      "cell_type": "markdown",
      "source": [
        "Week 47 is the black friday week for 2019. Most sales and revenue were made in this week. For the top product, that was about 725.\n",
        "\n",
        "Total sales per week for the top product by sales"
      ],
      "metadata": {
        "id": "ShnQte1J-mm9"
      }
    },
    {
      "cell_type": "code",
      "source": [
        "fig, ax = plt.subplots(figsize=(10,5))\n",
        "sns.barplot(x=sales_week.index, y='price', data=sales_week, palette=palette)\n",
        "ax.set_ylabel('Total sales ($)')\n",
        "ax.set_xlabel('Weeks')\n",
        "ax.set_title('Total sales per week for the top product by sales')"
      ],
      "metadata": {
        "colab": {
          "base_uri": "https://localhost:8080/",
          "height": 367
        },
        "id": "Sm73TkvQ-tL9",
        "outputId": "239fd76c-4613-4465-aead-2b638c7201e8"
      },
      "execution_count": 70,
      "outputs": [
        {
          "output_type": "execute_result",
          "data": {
            "text/plain": [
              "Text(0.5, 1.0, 'Total sales per week for the top product by sales')"
            ]
          },
          "metadata": {},
          "execution_count": 70
        },
        {
          "output_type": "display_data",
          "data": {
            "image/png": "[encoded data removed]",
            "text/plain": [
              "<Figure size 720x360 with 1 Axes>"
            ]
          },
          "metadata": {}
        }
      ]
    },
    {
      "cell_type": "markdown",
      "source": [
        "Week 47 has the highest total price of sales per week for the top product.\n",
        "\n",
        "Number of sales by time of day"
      ],
      "metadata": {
        "id": "swDTSb2h_7oe"
      }
    },
    {
      "cell_type": "code",
      "source": [
        "fig, ax = plt.subplots(figsize=(10,5))\n",
        "sns.pointplot(x=numSales_hour.index, y='price', data=numSales_hour, color='red')\n",
        "ax.set_ylabel('Number of sales')\n",
        "ax.set_xlabel('Time of Day')\n",
        "ax.set_title('Number of sales by time of day')"
      ],
      "metadata": {
        "colab": {
          "base_uri": "https://localhost:8080/",
          "height": 367
        },
        "id": "ubbOBRRwAAeR",
        "outputId": "3002cd19-adac-4d6b-c24d-75483334e35b"
      },
      "execution_count": 96,
      "outputs": [
        {
          "output_type": "execute_result",
          "data": {
            "text/plain": [
              "Text(0.5, 1.0, 'Number of sales by time of day')"
            ]
          },
          "metadata": {},
          "execution_count": 96
        },
        {
          "output_type": "display_data",
          "data": {
            "image/png": "[encoded data removed]",
            "text/plain": [
              "<Figure size 720x360 with 1 Axes>"
            ]
          },
          "metadata": {}
        }
      ]
    },
    {
      "cell_type": "markdown",
      "source": [
        "Cummulatively, most sales happen during the day. This chart represents all products that were purchased.\n",
        "\n",
        "**Brands**"
      ],
      "metadata": {
        "id": "9gSKBYcwW-89"
      }
    },
    {
      "cell_type": "code",
      "source": [
        "fig, ax = plt.subplots(figsize=(18,6))\n",
        "sns.pointplot(x=quantity_brand.index[:19], y='price', data=quantity_brand.iloc[:19])\n",
        "ax.set_ylabel('Count')\n",
        "ax.set_title('Number of sales for each brand')"
      ],
      "metadata": {
        "colab": {
          "base_uri": "https://localhost:8080/",
          "height": 421
        },
        "id": "XOfwNQsXBBEN",
        "outputId": "9616af98-2dff-4f6e-dfbe-2748a07373e0"
      },
      "execution_count": 97,
      "outputs": [
        {
          "output_type": "execute_result",
          "data": {
            "text/plain": [
              "Text(0.5, 1.0, 'Number of sales for each brand')"
            ]
          },
          "metadata": {},
          "execution_count": 97
        },
        {
          "output_type": "display_data",
          "data": {
            "image/png": "[encoded data removed]",
            "text/plain": [
              "<Figure size 1296x432 with 1 Axes>"
            ]
          },
          "metadata": {}
        }
      ]
    },
    {
      "cell_type": "markdown",
      "source": [
        "The brand with the highest quantity of purchase was *runail*. However the brands of the top product for quantity and sales total are *grattol* and *strong* respectively. *grattol* is the fifth most sold brand.\n",
        "\n",
        "Total sales for each brand"
      ],
      "metadata": {
        "id": "ZtaMjIPxEur1"
      }
    },
    {
      "cell_type": "code",
      "source": [
        "fig, ax = plt.subplots(figsize=(18,6))\n",
        "sns.pointplot(x=sales_brand.index[:19], y='price', data=sales_brand.iloc[:19])\n",
        "ax.set_ylabel('Total price ($)')\n",
        "ax.set_title('Total sales for each brand')"
      ],
      "metadata": {
        "colab": {
          "base_uri": "https://localhost:8080/",
          "height": 421
        },
        "id": "k5rptJa7EvHn",
        "outputId": "2f984e00-d550-45b7-8f32-ec71c03c9bd8"
      },
      "execution_count": 98,
      "outputs": [
        {
          "output_type": "execute_result",
          "data": {
            "text/plain": [
              "Text(0.5, 1.0, 'Total sales for each brand')"
            ]
          },
          "metadata": {},
          "execution_count": 98
        },
        {
          "output_type": "display_data",
          "data": {
            "image/png": "[encoded data removed]",
            "text/plain": [
              "<Figure size 1296x432 with 1 Axes>"
            ]
          },
          "metadata": {}
        }
      ]
    },
    {
      "cell_type": "markdown",
      "source": [
        "*runail* has the highest total sales (almost $240,000). Hower, the best product with the highest sales belongs to *strong* brand. *strong* is also the 5th brand with the highest total sales price.\n",
        "\n",
        "Number of purchases by category"
      ],
      "metadata": {
        "id": "dQcZfd2hFe2N"
      }
    },
    {
      "cell_type": "code",
      "source": [
        "fig, ax = plt.subplots(figsize=(12,6))\n",
        "sns.barplot(x=quantity_catID.index[:9], y='price', data=quantity_catID[:9]).set_title(\n",
        "    'Number of purchases by category')\n",
        "ax.set_ylabel('Counts')\n",
        "plt.xticks(rotation=90)"
      ],
      "metadata": {
        "colab": {
          "base_uri": "https://localhost:8080/",
          "height": 550
        },
        "id": "yE3aZF5DFg6o",
        "outputId": "2acd67e3-77b0-44ad-8248-69576e8b9f5f"
      },
      "execution_count": 108,
      "outputs": [
        {
          "output_type": "execute_result",
          "data": {
            "text/plain": [
              "(array([0, 1, 2, 3, 4, 5, 6, 7, 8]),\n",
              " <a list of 9 Text major ticklabel objects>)"
            ]
          },
          "metadata": {},
          "execution_count": 108
        },
        {
          "output_type": "display_data",
          "data": {
            "image/png": "[encoded data removed]",
            "text/plain": [
              "<Figure size 864x432 with 1 Axes>"
            ]
          },
          "metadata": {}
        }
      ]
    },
    {
      "cell_type": "markdown",
      "source": [
        "The best performing category is `1487580007675986893`. However, the best product by quantity sold is from `1602943681873052386` category.\n",
        "\n",
        "Total sales for each category"
      ],
      "metadata": {
        "id": "gjqPXdSiKeQW"
      }
    },
    {
      "cell_type": "code",
      "source": [
        "fig, ax = plt.subplots(figsize=(12,6))\n",
        "sns.barplot(x=sales_catID.index[:9], y='price', data=sales_catID[:9]).set_title(\n",
        "    'Total sales by category')\n",
        "ax.set_ylabel('Total price ($)')\n",
        "plt.xticks(rotation=90)"
      ],
      "metadata": {
        "colab": {
          "base_uri": "https://localhost:8080/",
          "height": 550
        },
        "id": "1pFZuy9WKf58",
        "outputId": "3639495a-0bb4-4cdd-813d-1487e97d331d"
      },
      "execution_count": 113,
      "outputs": [
        {
          "output_type": "execute_result",
          "data": {
            "text/plain": [
              "(array([0, 1, 2, 3, 4, 5, 6, 7, 8]),\n",
              " <a list of 9 Text major ticklabel objects>)"
            ]
          },
          "metadata": {},
          "execution_count": 113
        },
        {
          "output_type": "display_data",
          "data": {
            "image/png": "[encoded data removed]",
            "text/plain": [
              "<Figure size 864x432 with 1 Axes>"
            ]
          },
          "metadata": {}
        }
      ]
    },
    {
      "cell_type": "markdown",
      "source": [
        "The best performing category by total sales is `1487580005092295511` making over $230,000. However the best selling product by total sales is from the `1487580006300255120` category. This is the second highest category from the chart above."
      ],
      "metadata": {
        "id": "GmnKq0b8QZEj"
      }
    },
    {
      "cell_type": "markdown",
      "source": [
        "## Conclusion and Recommendation\n",
        "\n",
        "The percentage of events that are pruchase is little compared to other event types.\n",
        "\n",
        "The period of highest sales is always influenced by key events in the year such as black friday, Christmas sales or any day when special offers are made. It might be a good idea to provide more special offers as this is seen to drive sales.\n",
        "\n",
        "The next product categories that will perform well are 1487580006317032337 and\n",
        "1487580007675986893 . This is because they appear in the top 10 categories by number of purchase, total sales, and top weekly sales for this three month period.\n",
        "\n",
        "The brands are also an important area to look into. Sales from the top 5 brands are very good and should continue to be made available to customers. *masura* and *ingarden* are next products that are ripe for growth because they are at a balanced price point and have enough room for growth by quantity of sales. Therefore, I recommend that these brands be advertised more."
      ],
      "metadata": {
        "id": "S3xKCIULcD5Y"
      }
    }
  ]
}